{
 "cells": [
  {
   "cell_type": "markdown",
   "id": "e64a431d",
   "metadata": {},
   "source": [
    "### Q1. What is a database? Differentiate between SQL and NoSQL databases."
   ]
  },
  {
   "cell_type": "markdown",
   "id": "e9f0e56b",
   "metadata": {},
   "source": [
    "#### Database is a collection of data that is organized and stored in an electronic format, making it easily accessible and retrievable. It is a structured way of storing and managing data that can be used to power various software programs and applications. It includes tools and techniques for storing, organizing, and manipulating data.\n",
    "\n",
    "#### The main differences between SQL and NoSQL databases are as follows:\n",
    "####  SQL Databases:\n",
    "\n",
    "-    Store data in tables with predefined relationships\n",
    "\n",
    "-    Follow a fixed schema and structure for data\n",
    "\n",
    "-    Use SQL for querying and managing data\n",
    "\n",
    "-    Have strong ACID (atomicity, consistency, isolation, durability) compliance\n",
    "\n",
    "-    Good for complex queries and analytical workloads\n",
    "\n",
    "-    Require less storage space\n",
    "\n",
    "-    Scaling can be challenging\n",
    "\n",
    "#### NoSQL Databases:\n",
    "\n",
    "-    Store data in a flexible way, with dynamic schemas\n",
    "\n",
    "-    Use various data models such as document-based, key-value, column-based, graph databases, etc.\n",
    "\n",
    "-    Use NoSQL query languages which are more flexible than SQL\n",
    "\n",
    "-    Have weak or no ACID compliance\n",
    "\n",
    "-    Good for real-time and high-traffic applications\n",
    "\n",
    "-    Can handle large amounts of unstructured and semi-structured data\n",
    "\n",
    "-    Can scale horizontally and handle large volumes of data"
   ]
  },
  {
   "cell_type": "markdown",
   "id": "c5477416",
   "metadata": {},
   "source": [
    "### Q2. What is DDL? Explain why CREATE, DROP, ALTER, and TRUNCATE are used with an example."
   ]
  },
  {
   "cell_type": "markdown",
   "id": "9bbba402",
   "metadata": {},
   "source": [
    "#### DDL stands for Data Definition Language, which is a sub-language of SQL used to create, modify, and delete database structures and objects. It is used to define the database schema, which includes tables, indexes, views, constraints, and other database objects."
   ]
  },
  {
   "cell_type": "markdown",
   "id": "ecadfc5e",
   "metadata": {},
   "source": [
    "#### CREATE - It is used to create a new database object, such as a table or an index. It specifies the name of the object, the attributes or fields, and the constraints that define the object. "
   ]
  },
  {
   "cell_type": "code",
   "execution_count": 2,
   "id": "d782215c",
   "metadata": {},
   "outputs": [
    {
     "data": {
      "text/plain": [
       "'python code to use DDL command CREATE \\n\\nimport mysql.connector\\n\\ntry:\\n    mydb = mysql.connector.connect(\\n    host=\"localhost\",\\n    user=\"abc\",\\n    password=\"password\"\\n    )\\n    mycursor = mydb.cursor()\\n    mycursor.execute(\"CREATE DATABASE if not exists mysql_assignment\")\\n    mycursor.execute(\"CREATE TABLE if not exists mysql_assignment.create(name VARCHAR(15),phoneno INT(10),state VARCHAR(15),city VARCHAR(15))\")\\nexcept Exception as e:\\n    print(\"Error ==> {}\".format(e))\\nfinally:    \\n    mydb.close()\\n'"
      ]
     },
     "execution_count": 2,
     "metadata": {},
     "output_type": "execute_result"
    }
   ],
   "source": [
    "'''python code to use DDL command CREATE \n",
    "\n",
    "import mysql.connector\n",
    "\n",
    "try:\n",
    "    mydb = mysql.connector.connect(\n",
    "    host=\"localhost\",\n",
    "    user=\"abc\",\n",
    "    password=\"password\"\n",
    "    )\n",
    "    mycursor = mydb.cursor()\n",
    "    mycursor.execute(\"CREATE DATABASE if not exists mysql_assignment\")\n",
    "    mycursor.execute(\"CREATE TABLE if not exists mysql_assignment.create(name VARCHAR(15),phoneno INT(10),state VARCHAR(15),city VARCHAR(15))\")\n",
    "except Exception as e:\n",
    "    print(\"Error ==> {}\".format(e))\n",
    "finally:    \n",
    "    mydb.close()\n",
    "'''"
   ]
  },
  {
   "cell_type": "markdown",
   "id": "28f0474f",
   "metadata": {},
   "source": [
    "<img src=\"create1.png\">"
   ]
  },
  {
   "cell_type": "markdown",
   "id": "55a5f2f3",
   "metadata": {},
   "source": [
    "<img src=\"create2.png\" >"
   ]
  },
  {
   "cell_type": "markdown",
   "id": "68498651",
   "metadata": {},
   "source": [
    "#### ALTER - ALTER: It is used to modify the structure of an existing database object, such as a table or a view. It allows you to add or remove columns, change the data type of a column, or add constraints to a column."
   ]
  },
  {
   "cell_type": "code",
   "execution_count": 3,
   "id": "3b4bb24c",
   "metadata": {},
   "outputs": [
    {
     "data": {
      "text/plain": [
       "'\\nimport mysql.connector\\n\\ntry:\\n    mydb = mysql.connector.connect(\\n    host=\"localhost\",\\n    user=\"abc\",\\n    password=\"password\"\\n    )\\n    mycursor = mydb.cursor()\\n    mycursor.execute(\"CREATE DATABASE if not exists mysql_assignment\")\\n    mycursor.execute(\"CREATE TABLE if not exists mysql_assignment.create(name VARCHAR(15),phoneno INT(10),state VARCHAR(15),city VARCHAR(15))\")\\n    mycursor.execute(\"ALTER TABLE mysql_assignment.create ADD age INT(4)\")\\nexcept Exception as e:\\n    print(\"Error ==> {}\".format(e))\\nfinally:    \\n    mydb.close()\\n'"
      ]
     },
     "execution_count": 3,
     "metadata": {},
     "output_type": "execute_result"
    }
   ],
   "source": [
    "'''\n",
    "import mysql.connector\n",
    "\n",
    "try:\n",
    "    mydb = mysql.connector.connect(\n",
    "    host=\"localhost\",\n",
    "    user=\"abc\",\n",
    "    password=\"password\"\n",
    "    )\n",
    "    mycursor = mydb.cursor()\n",
    "    mycursor.execute(\"CREATE DATABASE if not exists mysql_assignment\")\n",
    "    mycursor.execute(\"CREATE TABLE if not exists mysql_assignment.create(name VARCHAR(15),phoneno INT(10),state VARCHAR(15),city VARCHAR(15))\")\n",
    "    mycursor.execute(\"ALTER TABLE mysql_assignment.create ADD age INT(4)\")\n",
    "except Exception as e:\n",
    "    print(\"Error ==> {}\".format(e))\n",
    "finally:    \n",
    "    mydb.close()\n",
    "'''"
   ]
  },
  {
   "cell_type": "markdown",
   "id": "c68827a8",
   "metadata": {},
   "source": [
    "<img src=\"alter.png\">"
   ]
  },
  {
   "cell_type": "markdown",
   "id": "7b47d99c",
   "metadata": {},
   "source": [
    "#### TRUNCATE: It is used to remove all the data from an existing table, but not the table structure itself."
   ]
  },
  {
   "cell_type": "markdown",
   "id": "47486b96",
   "metadata": {},
   "source": [
    "#### Insert data"
   ]
  },
  {
   "cell_type": "code",
   "execution_count": 4,
   "id": "59b5be9d",
   "metadata": {},
   "outputs": [
    {
     "data": {
      "text/plain": [
       "'\\nimport mysql.connector\\n\\nmydb = mysql.connector.connect(\\n    host=\\'localhost\\',\\n    user=\\'abc\\',\\n    password=\\'password\\'\\n)\\n\\nmycursor = mydb.cursor()\\nmycursor.execute(\"insert into mysql_assignment.create values(\\'chang\\',9898989,\\'sikkim\\',\\'gangtok\\',144)\")\\nmycursor.execute(\"insert into mysql_assignment.create values(\\'chang\\',9898989,\\'sikkim\\',\\'gangtok\\',144)\")\\nmycursor.execute(\"insert into mysql_assignment.create values(\\'chang\\',9898989,\\'sikkim\\',\\'gangtok\\',144)\")\\nmycursor.execute(\"insert into mysql_assignment.create values(\\'chang\\',9898989,\\'sikkim\\',\\'gangtok\\',144)\")\\nmycursor.execute(\"insert into mysql_assignment.create values(\\'chang\\',9898989,\\'sikkim\\',\\'gangtok\\',144)\")\\nmycursor.execute(\"select * from mysql_assignment.create\")\\nfor i in mycursor.fetchall():\\n    print(i)\\nmydb.close()\\n'"
      ]
     },
     "execution_count": 4,
     "metadata": {},
     "output_type": "execute_result"
    }
   ],
   "source": [
    "'''\n",
    "import mysql.connector\n",
    "\n",
    "mydb = mysql.connector.connect(\n",
    "    host='localhost',\n",
    "    user='abc',\n",
    "    password='password'\n",
    ")\n",
    "\n",
    "mycursor = mydb.cursor()\n",
    "mycursor.execute(\"insert into mysql_assignment.create values('chang',9898989,'sikkim','gangtok',144)\")\n",
    "mycursor.execute(\"insert into mysql_assignment.create values('chang',9898989,'sikkim','gangtok',144)\")\n",
    "mycursor.execute(\"insert into mysql_assignment.create values('chang',9898989,'sikkim','gangtok',144)\")\n",
    "mycursor.execute(\"insert into mysql_assignment.create values('chang',9898989,'sikkim','gangtok',144)\")\n",
    "mycursor.execute(\"insert into mysql_assignment.create values('chang',9898989,'sikkim','gangtok',144)\")\n",
    "mycursor.execute(\"select * from mysql_assignment.create\")\n",
    "for i in mycursor.fetchall():\n",
    "    print(i)\n",
    "mydb.close()\n",
    "'''"
   ]
  },
  {
   "cell_type": "markdown",
   "id": "d5330523",
   "metadata": {},
   "source": [
    "<img scr='trun.png'>"
   ]
  },
  {
   "cell_type": "markdown",
   "id": "2577f8b4",
   "metadata": {},
   "source": [
    "<img scr='trun.png'>"
   ]
  },
  {
   "cell_type": "markdown",
   "id": "d384c662",
   "metadata": {},
   "source": [
    "<img scr='trun.png'>"
   ]
  },
  {
   "cell_type": "markdown",
   "id": "8c9e7f90",
   "metadata": {},
   "source": [
    "<img src=\"trun.png\">"
   ]
  },
  {
   "cell_type": "markdown",
   "id": "bab24732",
   "metadata": {},
   "source": [
    "#### truncate"
   ]
  },
  {
   "cell_type": "code",
   "execution_count": 6,
   "id": "c8e5ef7e",
   "metadata": {},
   "outputs": [
    {
     "data": {
      "text/plain": [
       "'\\nimport mysql.connector\\n\\nmydb = mysql.connector.connect(\\n    host=\\'localhost\\',\\n    user=\\'abc\\',\\n    password=\\'password\\'\\n)\\n\\nmycursor = mydb.cursor()\\n\\nmycursor.execute(\"truncate table mysql_assignment.create\")\\n\\nmycursor.execute(\"select * from mysql_assignment.create\")\\n\\nfor i in mycursor.fetchall():\\n    print(i)\\n\\nmydb.close()\\n'"
      ]
     },
     "execution_count": 6,
     "metadata": {},
     "output_type": "execute_result"
    }
   ],
   "source": [
    "'''\n",
    "import mysql.connector\n",
    "\n",
    "mydb = mysql.connector.connect(\n",
    "    host='localhost',\n",
    "    user='abc',\n",
    "    password='password'\n",
    ")\n",
    "\n",
    "mycursor = mydb.cursor()\n",
    "\n",
    "mycursor.execute(\"truncate table mysql_assignment.create\")\n",
    "\n",
    "mycursor.execute(\"select * from mysql_assignment.create\")\n",
    "\n",
    "for i in mycursor.fetchall():\n",
    "    print(i)\n",
    "\n",
    "mydb.close()\n",
    "'''"
   ]
  },
  {
   "cell_type": "markdown",
   "id": "6f28510e",
   "metadata": {},
   "source": [
    "<img src=\"trun1.png\">"
   ]
  },
  {
   "cell_type": "markdown",
   "id": "7d227134",
   "metadata": {},
   "source": [
    "#### DROP: it is used to delete a whole database or just a table.The DROP statement destroys the objects like an existing database, table, index, or view.. "
   ]
  },
  {
   "cell_type": "code",
   "execution_count": 1,
   "id": "2600f47a",
   "metadata": {},
   "outputs": [
    {
     "data": {
      "text/plain": [
       "\"\\nimport mysql.connector\\n\\nmydb = mysql.connector.connect(\\n    host='localhost',\\n    user='abc',\\n    password='password'\\n)\\n\\nmycursor = mydb.cursor()\\nmycursor.execute('drop table mysql_assignment.create')\\n\\nmydb.close()\\n\""
      ]
     },
     "execution_count": 1,
     "metadata": {},
     "output_type": "execute_result"
    }
   ],
   "source": [
    "'''\n",
    "import mysql.connector\n",
    "\n",
    "mydb = mysql.connector.connect(\n",
    "    host='localhost',\n",
    "    user='abc',\n",
    "    password='password'\n",
    ")\n",
    "\n",
    "mycursor = mydb.cursor()\n",
    "mycursor.execute('drop table mysql_assignment.create')\n",
    "\n",
    "mydb.close()\n",
    "'''"
   ]
  },
  {
   "cell_type": "markdown",
   "id": "edc01a64",
   "metadata": {},
   "source": [
    "<img src='drop.png'>"
   ]
  },
  {
   "cell_type": "markdown",
   "id": "57b75651",
   "metadata": {},
   "source": [
    "### Q3. What is DML? Explain INSERT, UPDATE, and DELETE with an example."
   ]
  },
  {
   "cell_type": "markdown",
   "id": "871486db",
   "metadata": {},
   "source": [
    "#### DML stands for Data Manipulation Language, which is a subset of SQL used to insert, update, delete, and retrieve data from a database."
   ]
  },
  {
   "cell_type": "markdown",
   "id": "e9046798",
   "metadata": {},
   "source": [
    "#### INSERT statement: This statement is used to add new records (rows) into a table."
   ]
  },
  {
   "cell_type": "code",
   "execution_count": 2,
   "id": "ed7963ba",
   "metadata": {},
   "outputs": [
    {
     "data": {
      "text/plain": [
       "'\\nimport mysql.connector\\n\\nmydb = mysql.connector.connect(\\n    host=\\'localhost\\',\\n    user=\\'abc\\',\\n    password=\\'password\\'\\n)\\n\\nmycursor = mydb.cursor()\\nmycursor.execute(\"create table if not exists mysql_assignment.marks(name varchar(10),age int(3),marks varchar(3))\")\\nmycursor.execute(\\'insert into mysql_assignment.marks values(\"eam\",20,\"c\")\\')\\nmycursor.execute(\\'insert into mysql_assignment.marks values(\"ram\",19,\"b\")\\')\\nmycursor.execute(\\'insert into mysql_assignment.marks values(\"sam\",22,\"a\")\\')\\n\\n\\nmycursor.execute(\\'select * from mysql_assignment.marks\\')\\nfor i in mycursor.fetchall():\\n    print(i)\\nmydb.close()\\n'"
      ]
     },
     "execution_count": 2,
     "metadata": {},
     "output_type": "execute_result"
    }
   ],
   "source": [
    "'''\n",
    "import mysql.connector\n",
    "\n",
    "mydb = mysql.connector.connect(\n",
    "    host='localhost',\n",
    "    user='abc',\n",
    "    password='password'\n",
    ")\n",
    "\n",
    "mycursor = mydb.cursor()\n",
    "mycursor.execute(\"create table if not exists mysql_assignment.marks(name varchar(10),age int(3),marks varchar(3))\")\n",
    "mycursor.execute('insert into mysql_assignment.marks values(\"eam\",20,\"c\")')\n",
    "mycursor.execute('insert into mysql_assignment.marks values(\"ram\",19,\"b\")')\n",
    "mycursor.execute('insert into mysql_assignment.marks values(\"sam\",22,\"a\")')\n",
    "\n",
    "\n",
    "mycursor.execute('select * from mysql_assignment.marks')\n",
    "for i in mycursor.fetchall():\n",
    "    print(i)\n",
    "mydb.close()\n",
    "'''"
   ]
  },
  {
   "cell_type": "markdown",
   "id": "e473fd82",
   "metadata": {},
   "source": [
    "<img src='dml_insert.png'>"
   ]
  },
  {
   "cell_type": "markdown",
   "id": "6818be67",
   "metadata": {},
   "source": [
    "#### UPDATE statement: This statement is used to modify existing records in a table."
   ]
  },
  {
   "cell_type": "code",
   "execution_count": 3,
   "id": "5f3949a1",
   "metadata": {},
   "outputs": [
    {
     "data": {
      "text/plain": [
       "'\\nimport mysql.connector\\n\\nmydb = mysql.connector.connect(\\n    host=\\'localhost\\',\\n    user=\\'abc\\',\\n    password=\\'password\\'\\n)\\n\\nmycursor = mydb.cursor()\\nmycursor.execute(\\'update mysql_assignment.marks set marks=\"a\" where name=\"bam\"\\')\\nmycursor.execute(\\'select * from mysql_assignment.marks\\')\\nfor i in mycursor.fetchall():\\n    print(i)\\nmydb.close()\\n'"
      ]
     },
     "execution_count": 3,
     "metadata": {},
     "output_type": "execute_result"
    }
   ],
   "source": [
    "'''\n",
    "import mysql.connector\n",
    "\n",
    "mydb = mysql.connector.connect(\n",
    "    host='localhost',\n",
    "    user='abc',\n",
    "    password='password'\n",
    ")\n",
    "\n",
    "mycursor = mydb.cursor()\n",
    "mycursor.execute('update mysql_assignment.marks set marks=\"a\" where name=\"bam\"')\n",
    "mycursor.execute('select * from mysql_assignment.marks')\n",
    "for i in mycursor.fetchall():\n",
    "    print(i)\n",
    "mydb.close()\n",
    "'''"
   ]
  },
  {
   "cell_type": "markdown",
   "id": "fe56f5a4",
   "metadata": {},
   "source": [
    "<img src='dml_update.png'>"
   ]
  },
  {
   "cell_type": "markdown",
   "id": "608a86c1",
   "metadata": {},
   "source": [
    "#### DELETE statement: This statement is used to remove records from a table. "
   ]
  },
  {
   "cell_type": "code",
   "execution_count": 4,
   "id": "c335c96d",
   "metadata": {},
   "outputs": [
    {
     "data": {
      "text/plain": [
       "'\\nimport mysql.connector\\n\\nmydb = mysql.connector.connect(\\n    host=\\'localhost\\',\\n    user=\\'abc\\',\\n    password=\\'password\\'\\n)\\n\\nmycursor = mydb.cursor()\\n\\nmycursor.execute(\"select * from mysql_assignment.marks\")\\n\\nprint(\\'#######old record ###########\\')\\n\\nfor oldrecord in mycursor.fetchall():\\n    print(oldrecord)\\n\\nmycursor.execute(\\'delete from mysql_assignment.marks where age=29\\')\\n\\nmycursor.execute(\"select * from mysql_assignment.marks\")\\nprint(\\'#######new record ###########\\')\\n\\nfor newrecord in mycursor.fetchall():\\n    print(newrecord)\\n\\nmydb.close()\\n'"
      ]
     },
     "execution_count": 4,
     "metadata": {},
     "output_type": "execute_result"
    }
   ],
   "source": [
    "'''\n",
    "import mysql.connector\n",
    "\n",
    "mydb = mysql.connector.connect(\n",
    "    host='localhost',\n",
    "    user='abc',\n",
    "    password='password'\n",
    ")\n",
    "\n",
    "mycursor = mydb.cursor()\n",
    "\n",
    "mycursor.execute(\"select * from mysql_assignment.marks\")\n",
    "\n",
    "print('#######old record ###########')\n",
    "\n",
    "for oldrecord in mycursor.fetchall():\n",
    "    print(oldrecord)\n",
    "\n",
    "mycursor.execute('delete from mysql_assignment.marks where age=29')\n",
    "\n",
    "mycursor.execute(\"select * from mysql_assignment.marks\")\n",
    "print('#######new record ###########')\n",
    "\n",
    "for newrecord in mycursor.fetchall():\n",
    "    print(newrecord)\n",
    "\n",
    "mydb.close()\n",
    "'''"
   ]
  },
  {
   "cell_type": "markdown",
   "id": "88899cc4",
   "metadata": {},
   "source": [
    "<img src='dml_delete.png'>"
   ]
  },
  {
   "cell_type": "markdown",
   "id": "84794e5c",
   "metadata": {},
   "source": [
    "### Q4. What is DQL? Explain SELECT with an example."
   ]
  },
  {
   "cell_type": "markdown",
   "id": "50038244",
   "metadata": {},
   "source": [
    "#### DQL stands for Data Query Language, which is a subset of SQL used to retrieve data from a database. The SELECT statement is the most commonly used DQL statement, used to select data from one or more tables in a database. "
   ]
  },
  {
   "cell_type": "code",
   "execution_count": 1,
   "id": "957e8ba6",
   "metadata": {},
   "outputs": [
    {
     "data": {
      "text/plain": [
       "'\\nimport mysql.connector\\n\\nmydb = mysql.connector.connect(\\n    host=\\'localhost\\',\\n    user=\\'abc\\',\\n    password=\\'password\\'\\n)\\n\\nmycursor = mydb.cursor()\\nmycursor.execute(\"create table if not exists mysql_assignment.marks(name varchar(10),age int(3),marks varchar(3))\")\\nmycursor.execute(\\'INSERT INTO mysql_assignment.marks VALUES(\"sham\",19,\"B\");\\')\\nmycursor.execute(\\'INSERT INTO mysql_assignment.marks VALUES(\"ram\",29,\"A\");\\')\\nmycursor.execute(\\'INSERT INTO mysql_assignment.marks VALUES(\"bam\",39,\"C\");\\')\\n\\n\\nmycursor.execute(\\'select * from mysql_assignment.marks\\')\\nfor i in mycursor.fetchall():\\n    print(i)\\nmydb.close()\\n'"
      ]
     },
     "execution_count": 1,
     "metadata": {},
     "output_type": "execute_result"
    }
   ],
   "source": [
    "'''\n",
    "import mysql.connector\n",
    "\n",
    "mydb = mysql.connector.connect(\n",
    "    host='localhost',\n",
    "    user='abc',\n",
    "    password='password'\n",
    ")\n",
    "\n",
    "mycursor = mydb.cursor()\n",
    "mycursor.execute(\"create table if not exists mysql_assignment.marks(name varchar(10),age int(3),marks varchar(3))\")\n",
    "mycursor.execute('INSERT INTO mysql_assignment.marks VALUES(\"sham\",19,\"B\");')\n",
    "mycursor.execute('INSERT INTO mysql_assignment.marks VALUES(\"ram\",29,\"A\");')\n",
    "mycursor.execute('INSERT INTO mysql_assignment.marks VALUES(\"bam\",39,\"C\");')\n",
    "\n",
    "\n",
    "mycursor.execute('select * from mysql_assignment.marks')\n",
    "for i in mycursor.fetchall():\n",
    "    print(i)\n",
    "mydb.close()\n",
    "'''"
   ]
  },
  {
   "cell_type": "markdown",
   "id": "89e8b46a",
   "metadata": {},
   "source": [
    "<img src='dql_select.png'>"
   ]
  },
  {
   "cell_type": "markdown",
   "id": "a11e030a",
   "metadata": {},
   "source": [
    "### Q5. Explain Primary Key and Foreign Key."
   ]
  },
  {
   "cell_type": "markdown",
   "id": "6822e4ba",
   "metadata": {},
   "source": [
    "#### In SQL, a primary key is a column or set of columns in a table that uniquely identifies each row in the table. It is used to enforce the integrity of the data by ensuring that no two rows in the table have the same values in the primary key column(s). A primary key can be used as a reference by other tables, known as foreign keys.\n",
    "\n",
    "#### A foreign key is a column or set of columns in one table that refers to the primary key column(s) of another table. It is used to establish a link between two tables and enforce referential integrity between them. The foreign key column(s) in the referencing table must have the same data type and length as the primary key column(s) in the referenced table."
   ]
  },
  {
   "cell_type": "markdown",
   "id": "7d3b551f",
   "metadata": {},
   "source": [
    "### Q6. Write a python code to connect MySQL to python. Explain the cursor() and execute() method."
   ]
  },
  {
   "cell_type": "code",
   "execution_count": 2,
   "id": "57608aa7",
   "metadata": {},
   "outputs": [
    {
     "data": {
      "text/plain": [
       "'\\nimport mysql.connector\\n\\ndb = mysql.connector.connect(\\n    host=\\'localhost\\',\\n    user=\\'abc\\',\\n    password=\\'password\\'\\n)\\n\\nnew_cursor = db.cursor()\\nnew_cursor.execute(\\'insert into mysql_assignment.marks values(\"test\",25,\"B\")\\')\\nnew_cursor.execute(\\'select * from mysql_assignment.marks\\')\\n\\nfor record in new_cursor.fetchall():\\n    print(record)\\n\\ndb.close()\\n'"
      ]
     },
     "execution_count": 2,
     "metadata": {},
     "output_type": "execute_result"
    }
   ],
   "source": [
    "'''\n",
    "import mysql.connector\n",
    "\n",
    "db = mysql.connector.connect(\n",
    "    host='localhost',\n",
    "    user='abc',\n",
    "    password='password'\n",
    ")\n",
    "\n",
    "new_cursor = db.cursor()\n",
    "new_cursor.execute('insert into mysql_assignment.marks values(\"test\",25,\"B\")')\n",
    "new_cursor.execute('select * from mysql_assignment.marks')\n",
    "\n",
    "for record in new_cursor.fetchall():\n",
    "    print(record)\n",
    "\n",
    "db.close()\n",
    "'''"
   ]
  },
  {
   "cell_type": "markdown",
   "id": "c10a3527",
   "metadata": {},
   "source": [
    "<img src='execute_cursor.png'>"
   ]
  },
  {
   "cell_type": "markdown",
   "id": "a8e18ab9",
   "metadata": {},
   "source": [
    "#### cursor() method creates a cursor object, which allows us to execute SQL queries on a MySQL database. Once the cursor object is created, we can use its execute() method to execute SQL queries on the database.The execute() method takes a string containing the SQL query as its argument, and returns a result"
   ]
  },
  {
   "cell_type": "markdown",
   "id": "d05fa769",
   "metadata": {},
   "source": [
    "### Q7. Give the order of execution of SQL clauses in an SQL query."
   ]
  },
  {
   "cell_type": "markdown",
   "id": "6b182c29",
   "metadata": {},
   "source": [
    "#### The order of execution of clauses in an SQL query is as follows:\n",
    "\n",
    "- FROM: Specifies the table(s) from which data will be retrieved.\n",
    "- JOIN: Specifies how the data from the tables will be joined together.\n",
    "- WHERE: Specifies the conditions that the data must meet to be included in the result set.\n",
    "- GROUP BY: Groups the data based on one or more columns.\n",
    "- HAVING: Specifies the conditions that a group must meet to be included in the result set.\n",
    "- SELECT: Specifies the columns to be retrieved.\n",
    "- DISTINCT: Removes duplicate rows from the result set.\n",
    "- ORDER BY: Specifies the order in which the rows should be sorted.\n",
    "- LIMIT: Limits the number of rows returned by the query.\n"
   ]
  },
  {
   "cell_type": "code",
   "execution_count": null,
   "id": "03ceea21",
   "metadata": {},
   "outputs": [],
   "source": []
  }
 ],
 "metadata": {
  "kernelspec": {
   "display_name": "Python 3 (ipykernel)",
   "language": "python",
   "name": "python3"
  },
  "language_info": {
   "codemirror_mode": {
    "name": "ipython",
    "version": 3
   },
   "file_extension": ".py",
   "mimetype": "text/x-python",
   "name": "python",
   "nbconvert_exporter": "python",
   "pygments_lexer": "ipython3",
   "version": "3.9.16"
  }
 },
 "nbformat": 4,
 "nbformat_minor": 5
}
