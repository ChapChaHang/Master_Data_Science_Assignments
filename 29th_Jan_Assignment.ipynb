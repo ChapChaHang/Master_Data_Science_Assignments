{
 "cells": [
  {
   "cell_type": "markdown",
   "id": "44e9c837",
   "metadata": {},
   "source": [
    "# 29th Jan Assignment"
   ]
  },
  {
   "cell_type": "markdown",
   "id": "47f02944",
   "metadata": {},
   "source": [
    "### 1. who developed python programming Language ?"
   ]
  },
  {
   "cell_type": "markdown",
   "id": "4f5f8ce6",
   "metadata": {},
   "source": [
    "#### Pyhon Programming Language was developed by Guido van Rossum"
   ]
  },
  {
   "cell_type": "markdown",
   "id": "054ac499",
   "metadata": {},
   "source": [
    "### 2. which type of programming does python support?"
   ]
  },
  {
   "cell_type": "markdown",
   "id": "b1334205",
   "metadata": {},
   "source": [
    "#### Python is a multi-paradigm programming language it supports several programming paradigms, including:\n",
    "####    Object-Oriented Programming\n",
    "####    structured programming\n",
    "####    functional programming\n",
    "\n"
   ]
  },
  {
   "cell_type": "markdown",
   "id": "ddac9ab9",
   "metadata": {},
   "source": [
    "### 3. is python case sensitive when dealing with identifiers ?"
   ]
  },
  {
   "cell_type": "markdown",
   "id": "f2357d66",
   "metadata": {},
   "source": [
    "#### Yes, Python is case sensitive when dealing with identifiers"
   ]
  },
  {
   "cell_type": "markdown",
   "id": "f128406a",
   "metadata": {},
   "source": [
    "#### 4. what is the correct extension of the python file?"
   ]
  },
  {
   "cell_type": "markdown",
   "id": "098f2947",
   "metadata": {},
   "source": [
    "#### The correct extension for a Python file is .py. This extension is used to indicate that the file contains Python code that can be executed by the Python interpreter"
   ]
  },
  {
   "cell_type": "markdown",
   "id": "0df93547",
   "metadata": {},
   "source": [
    "### 5. is python code compiled or interpreted ?"
   ]
  },
  {
   "cell_type": "markdown",
   "id": "ea58a99a",
   "metadata": {},
   "source": [
    "#### Python code is interpreted which means that the code is executed line by line by the Python interpreter."
   ]
  },
  {
   "cell_type": "markdown",
   "id": "670ad76e",
   "metadata": {},
   "source": [
    "### 6. name a few blocks of code used to define in python language ?"
   ]
  },
  {
   "cell_type": "markdown",
   "id": "4cc4dd97",
   "metadata": {},
   "source": [
    "#### In Python, there are several blocks of code that are used to define different types of structures, including functions, classes, and control structures like loops and conditionals. Here are some examples:"
   ]
  },
  {
   "cell_type": "code",
   "execution_count": 30,
   "id": "9d86b531",
   "metadata": {},
   "outputs": [
    {
     "name": "stdout",
     "output_type": "stream",
     "text": [
      "Hello,chang\n"
     ]
    }
   ],
   "source": [
    "# function defination \n",
    "def test(name):\n",
    "    print(\"Hello,\" + name)\n",
    "test('chang')"
   ]
  },
  {
   "cell_type": "code",
   "execution_count": 31,
   "id": "b20faf0d",
   "metadata": {},
   "outputs": [
    {
     "data": {
      "text/plain": [
       "('chang', 'sikkim')"
      ]
     },
     "execution_count": 31,
     "metadata": {},
     "output_type": "execute_result"
    }
   ],
   "source": [
    "# class defination\n",
    "class test1:\n",
    "    def __init__(self,name,state):\n",
    "        self.name = name\n",
    "        self.state = state\n",
    "    def details(self):\n",
    "        return self.name,self.state\n",
    "obj = test1('chang','sikkim')\n",
    "obj.details()"
   ]
  },
  {
   "cell_type": "code",
   "execution_count": 32,
   "id": "0281b535",
   "metadata": {},
   "outputs": [
    {
     "name": "stdout",
     "output_type": "stream",
     "text": [
      "0\n",
      "1\n",
      "2\n",
      "3\n",
      "4\n"
     ]
    }
   ],
   "source": [
    "# for loop\n",
    "for i in range(5):\n",
    "    print(i)"
   ]
  },
  {
   "cell_type": "code",
   "execution_count": 33,
   "id": "41e3bd3f",
   "metadata": {},
   "outputs": [
    {
     "name": "stdout",
     "output_type": "stream",
     "text": [
      "1\n",
      "2\n",
      "3\n",
      "4\n",
      "5\n"
     ]
    }
   ],
   "source": [
    "# while loop\n",
    "counter = 1\n",
    "while counter <= 5:\n",
    "    print(counter)\n",
    "    counter += 1"
   ]
  },
  {
   "cell_type": "code",
   "execution_count": 36,
   "id": "2f81a674",
   "metadata": {},
   "outputs": [
    {
     "name": "stdout",
     "output_type": "stream",
     "text": [
      "42 is greater than 10\n"
     ]
    }
   ],
   "source": [
    "# if statement\n",
    "x = 42\n",
    "if x > 10:\n",
    "    print(\"{} is greater than 10\".format(x))"
   ]
  },
  {
   "cell_type": "markdown",
   "id": "17406c0b",
   "metadata": {},
   "source": [
    "### 7. state a character used to give single line comments in python language ?"
   ]
  },
  {
   "cell_type": "markdown",
   "id": "6b0a4574",
   "metadata": {},
   "source": [
    "#### hash symbol (#) is used to give single line comments in python language . "
   ]
  },
  {
   "cell_type": "code",
   "execution_count": 37,
   "id": "6a637ae2",
   "metadata": {},
   "outputs": [],
   "source": [
    "# example of singe line comment"
   ]
  },
  {
   "cell_type": "markdown",
   "id": "288d71e3",
   "metadata": {},
   "source": [
    "### 8. mention function which can help us to find the version of python that we are currently working on ?"
   ]
  },
  {
   "cell_type": "markdown",
   "id": "580e8976",
   "metadata": {},
   "source": [
    "#### we can use the sys module in Python to find the python version"
   ]
  },
  {
   "cell_type": "code",
   "execution_count": 39,
   "id": "920222eb",
   "metadata": {},
   "outputs": [
    {
     "name": "stdout",
     "output_type": "stream",
     "text": [
      "Python version\n",
      "3.9.16 (main, Jan 11 2023, 16:05:54) \n",
      "[GCC 11.2.0]\n"
     ]
    }
   ],
   "source": [
    "import sys\n",
    "print(\"Python version\")\n",
    "print(sys.version)"
   ]
  },
  {
   "cell_type": "markdown",
   "id": "6df1af5c",
   "metadata": {},
   "source": [
    "### 9. python supports the creation of anonymous function at runtime,using a constructor called ____"
   ]
  },
  {
   "cell_type": "markdown",
   "id": "5b0c6173",
   "metadata": {},
   "source": [
    "#### lambda"
   ]
  },
  {
   "cell_type": "code",
   "execution_count": 47,
   "id": "dd83844d",
   "metadata": {},
   "outputs": [
    {
     "name": "stdout",
     "output_type": "stream",
     "text": [
      "15\n"
     ]
    }
   ],
   "source": [
    "# eg \n",
    "sum = lambda x, y: x + y\n",
    "print(sum(5,10))"
   ]
  },
  {
   "cell_type": "markdown",
   "id": "6e3203d7",
   "metadata": {},
   "source": [
    "### 10. what does pip stands for in python?"
   ]
  },
  {
   "cell_type": "markdown",
   "id": "e28ea196",
   "metadata": {},
   "source": [
    "#### pip stands for \"Pip Installs Packages\". It is a package management system for Python, which allows you to install, upgrade, and manage packages and modules."
   ]
  },
  {
   "cell_type": "markdown",
   "id": "e982d390",
   "metadata": {},
   "source": [
    "### 11. mention a few build in function in python?"
   ]
  },
  {
   "cell_type": "markdown",
   "id": "74fb8d9d",
   "metadata": {},
   "source": [
    "#### Example of build in function ==> print(),len(),type(),sum(),max(),min(),sorted(),int(),float(),str(),list(),tuple(),dict(),range()"
   ]
  },
  {
   "cell_type": "markdown",
   "id": "df166ba3",
   "metadata": {},
   "source": [
    "### 12. what is the maximum possible length of identifier in python ?"
   ]
  },
  {
   "cell_type": "markdown",
   "id": "575dc8e1",
   "metadata": {},
   "source": [
    "#### In Python, there is no fixed limit on the maximum length of an identifier. In theory, an identifier can be as long as you want, as long as it is a valid string of characters."
   ]
  },
  {
   "cell_type": "markdown",
   "id": "24976754",
   "metadata": {},
   "source": [
    "### 13. what are the benefits of using python ? "
   ]
  },
  {
   "cell_type": "markdown",
   "id": "92996f60",
   "metadata": {},
   "source": [
    "#### some key benefits of using python are as follows:\n",
    "\n",
    "#### 1. Easy to learn and use: Python has a simple and intuitive syntax that makes it easy to learn and use, even for those with little or no programming experience.\n",
    "\n",
    "#### 2.Versatile: Python is a multi-paradigm programming language that supports several programming paradigms, including object-oriented, structured, and functional programming.\n",
    "\n",
    "#### 3.Extensive libraries: Python has an extensive standard library and a vast collection of third-party libraries that cover a wide range of tasks, from web development to scientific computing.\n",
    "\n",
    "#### 4.Cross-platform compatibility: Python is available on a wide range of platforms, including Windows, macOS, and Linux, and can be used for a variety of applications, from desktop applications to web applications and data science.\n",
    "\n",
    "#### 5.High-level language: Python is a high-level programming language, which means that it abstracts away many of the low-level details of computer hardware and systems programming. This makes it easier to write and understand code.\n",
    "\n",
    "#### 6.Dynamic typing: Python has a dynamic typing system, which allows you to work with variables and objects without declaring their type beforehand. This makes it easier to write flexible and adaptable code."
   ]
  },
  {
   "cell_type": "markdown",
   "id": "1f94653d",
   "metadata": {},
   "source": [
    "### 14.how is memory managed in python?"
   ]
  },
  {
   "cell_type": "markdown",
   "id": "e3375166",
   "metadata": {},
   "source": [
    "#### In Python, memory management is handled by the Python interpreter itself. Python uses a combination of reference counting and garbage collection to automatically manage memory."
   ]
  },
  {
   "cell_type": "markdown",
   "id": "f5c4ae00",
   "metadata": {},
   "source": [
    "### 15. how to install python in windows and set path variable?"
   ]
  },
  {
   "cell_type": "markdown",
   "id": "a2e4e137",
   "metadata": {},
   "source": [
    "#### 1. Download the Python installer from the official Python website (https://www.python.org/downloads/). Choose the latest version of Python and select the Windows installer.\n",
    "\n",
    "#### 2.Run the installer and follow the prompts to install Python on your system. Make sure to select the option to add Python to the PATH variable during the installation process.\n",
    "\n",
    "#### 3.Once the installation is complete, open the Command Prompt or PowerShell and type the following command to check if Python has been added to the PATH variable:\n",
    "\n",
    "#### python\n",
    "\n",
    "#### 4. If Python is installed and the PATH variable is set correctly, you should see the Python REPL (Read-Eval-Print Loop) in the terminal. You can exit the REPL by typing exit() or quit().\n",
    "\n",
    "#### To set the PATH variable manually, follow these steps:\n",
    "\n",
    "#### 1.Right-click on the Start menu and select System.\n",
    "#### 2.Click on Advanced system settings.\n",
    "#### 3.Click on Environment Variables.\n",
    "#### 4.Under System Variables, scroll down and find the Path variable.Click on Edit and add the path to the Python executable (e.g. C:\\Python38\\)."
   ]
  },
  {
   "cell_type": "markdown",
   "id": "b4aec3d8",
   "metadata": {},
   "source": [
    "### 16. is indentation required in python?"
   ]
  },
  {
   "cell_type": "markdown",
   "id": "933c94b3",
   "metadata": {},
   "source": [
    "#### Yes, indentation is required in Python and it plays a crucial role in defining the structure of the code."
   ]
  },
  {
   "cell_type": "code",
   "execution_count": 48,
   "id": "65052104",
   "metadata": {},
   "outputs": [
    {
     "name": "stdout",
     "output_type": "stream",
     "text": [
      "0\n",
      "1\n",
      "2\n",
      "3\n"
     ]
    }
   ],
   "source": [
    "# example with indentation\n",
    "for i in range(4):\n",
    "    print(i)"
   ]
  },
  {
   "cell_type": "code",
   "execution_count": 49,
   "id": "0e0e04b1",
   "metadata": {},
   "outputs": [
    {
     "ename": "IndentationError",
     "evalue": "expected an indented block (2335066227.py, line 3)",
     "output_type": "error",
     "traceback": [
      "\u001b[0;36m  Cell \u001b[0;32mIn[49], line 3\u001b[0;36m\u001b[0m\n\u001b[0;31m    print(i)\u001b[0m\n\u001b[0m    ^\u001b[0m\n\u001b[0;31mIndentationError\u001b[0m\u001b[0;31m:\u001b[0m expected an indented block\n"
     ]
    }
   ],
   "source": [
    "# example without indentation\n",
    "for i in range(4):\n",
    "print(i)"
   ]
  },
  {
   "cell_type": "code",
   "execution_count": null,
   "id": "1d0db196",
   "metadata": {},
   "outputs": [],
   "source": []
  }
 ],
 "metadata": {
  "kernelspec": {
   "display_name": "Python 3 (ipykernel)",
   "language": "python",
   "name": "python3"
  },
  "language_info": {
   "codemirror_mode": {
    "name": "ipython",
    "version": 3
   },
   "file_extension": ".py",
   "mimetype": "text/x-python",
   "name": "python",
   "nbconvert_exporter": "python",
   "pygments_lexer": "ipython3",
   "version": "3.9.16"
  }
 },
 "nbformat": 4,
 "nbformat_minor": 5
}
