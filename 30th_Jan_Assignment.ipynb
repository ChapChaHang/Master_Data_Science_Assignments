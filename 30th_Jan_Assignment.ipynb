{
 "cells": [
  {
   "cell_type": "markdown",
   "id": "77460382",
   "metadata": {},
   "source": [
    "# 30th Jan Assignment"
   ]
  },
  {
   "cell_type": "markdown",
   "id": "8e62f984",
   "metadata": {},
   "source": [
    "### 1. write a program to accept percentage from the user and display the grade."
   ]
  },
  {
   "cell_type": "code",
   "execution_count": 17,
   "id": "1602131f",
   "metadata": {},
   "outputs": [
    {
     "name": "stdout",
     "output_type": "stream",
     "text": [
      "Enter you mark==>84\n",
      "Your grade for 84 is B\n"
     ]
    }
   ],
   "source": [
    "grade = int(input(\"Enter you mark==>\"))\n",
    "if grade > 90:\n",
    "    print(\"Your grade for {} is A\".format(grade))\n",
    "elif grade > 80 and grade <= 90:\n",
    "    print(\"Your grade for {} is B\".format(grade))\n",
    "elif grade >= 60 and grade <= 80:\n",
    "    print(\"Your grade for {} is C\".format(grade))\n",
    "else:\n",
    "    print(\"Your grade for {} is D\".format(grade))"
   ]
  },
  {
   "cell_type": "markdown",
   "id": "cb0a33a8",
   "metadata": {},
   "source": [
    "### 2. Write a  program to accept the cost price of a bike and display the road tax to be paid"
   ]
  },
  {
   "cell_type": "code",
   "execution_count": 13,
   "id": "f5b8d84e",
   "metadata": {},
   "outputs": [
    {
     "name": "stdout",
     "output_type": "stream",
     "text": [
      "Eneter the price of Bike == >84158\n",
      "You need to pay 10% as a road tax\n",
      "Tax price is 8415.800000000001\n"
     ]
    }
   ],
   "source": [
    "price = int(input(\"Eneter the price of Bike == >\"))\n",
    "if price > 100000:\n",
    "    print(\"You need to pay 15% as a road tax\")\n",
    "    tax = price * 0.15\n",
    "    print(\"Tax price is {}\".format(tax))\n",
    "elif price > 50000 and price <= 100000:\n",
    "    print(\"You need to pay 10% as a road tax\")\n",
    "    tax = price * 0.10\n",
    "    print(\"Tax price is {}\".format(tax))\n",
    "elif price <=50000:\n",
    "    print(\"You need to pay 5% as a road tax\")\n",
    "    tax = price * 0.05\n",
    "    print(\"Tax price is {}\".format(tax))\n",
    "else:\n",
    "    pass"
   ]
  },
  {
   "cell_type": "markdown",
   "id": "f55957cf",
   "metadata": {},
   "source": [
    "### 3. Accept any city from user and display monuments of that city"
   ]
  },
  {
   "cell_type": "code",
   "execution_count": 12,
   "id": "4cd64a51",
   "metadata": {},
   "outputs": [
    {
     "name": "stdout",
     "output_type": "stream",
     "text": [
      "Enter city name ==>delhi\n",
      "Monument for Delhi is Red Fort\n"
     ]
    }
   ],
   "source": [
    "city = str(input(\"Enter city name ==>\"))\n",
    "city = city.title()\n",
    "if city == \"Delhi\":\n",
    "    print(\"Monument for {} is Red Fort\".format(city))\n",
    "elif city == \"Agra\":\n",
    "    print(\"Monument for {} is Taj Mahal\".format(city))\n",
    "elif city == \"Jaipur\":\n",
    "    print(\"Monument for {} is Jal Mahal\".format(city))\n",
    "else:\n",
    "    pass"
   ]
  },
  {
   "cell_type": "markdown",
   "id": "962acfc4",
   "metadata": {},
   "source": [
    "### 4. Check how many times a given number can be divided by 3 before it is less than or equal to 10"
   ]
  },
  {
   "cell_type": "code",
   "execution_count": 11,
   "id": "a999a801",
   "metadata": {},
   "outputs": [
    {
     "name": "stdout",
     "output_type": "stream",
     "text": [
      "Enter the number==>19\n",
      "Total number of Count == > 3\n"
     ]
    }
   ],
   "source": [
    "number = int(input(\"Enter the number==>\"))\n",
    "counter = 0\n",
    "while number >= 10:\n",
    "    if number % 3 == 0:\n",
    "        counter += 1\n",
    "    number = number - 1\n",
    "print(\"Total number of Count == >\",counter)"
   ]
  },
  {
   "cell_type": "markdown",
   "id": "f6991196",
   "metadata": {},
   "source": [
    "### 5. why and when to use while loop in python give a detail explanation with simple example?"
   ]
  },
  {
   "cell_type": "markdown",
   "id": "3d3ff8ed",
   "metadata": {},
   "source": [
    "##### A while loop in Python is used to repeatedly execute a block of code as long as a certain condition is met.\n",
    "## Basic structure:\n",
    "#### while condition:\n",
    "####    # code to be executed\n",
    "##### The condition in a while loop is an expression that evaluates to either True or False. If the condition is True, the code inside the loop will be executed. After each iteration, the condition is checked again, and the loop continues until the condition becomes False."
   ]
  },
  {
   "cell_type": "code",
   "execution_count": 18,
   "id": "81497783",
   "metadata": {},
   "outputs": [
    {
     "name": "stdout",
     "output_type": "stream",
     "text": [
      "1\n",
      "2\n",
      "3\n",
      "4\n",
      "5\n"
     ]
    }
   ],
   "source": [
    "# A program to print the numbers from 1 to 5\n",
    "\n",
    "counter = 1\n",
    "\n",
    "# Start the while loop\n",
    "while counter <= 5:\n",
    "    # Print the current value of the counter variable\n",
    "    print(counter)\n",
    "    # Increment the counter variable by 1\n",
    "    counter += 1\n"
   ]
  },
  {
   "cell_type": "markdown",
   "id": "2ad354f5",
   "metadata": {},
   "source": [
    "### 6. use nested while loop to print 3 different pattern pattern ?"
   ]
  },
  {
   "cell_type": "code",
   "execution_count": 20,
   "id": "eff30e83",
   "metadata": {},
   "outputs": [
    {
     "name": "stdout",
     "output_type": "stream",
     "text": [
      "* \r\n",
      "* * \r\n",
      "* * * \r\n",
      "* * * * \r\n",
      "* * * * * \r\n"
     ]
    }
   ],
   "source": [
    "# first Pattern\n",
    "i = 1\n",
    "while i <= 5:\n",
    "    j = 1\n",
    "    while j <= i:\n",
    "        print(\"*\", end=\" \")\n",
    "        j += 1\n",
    "    print(\"\\r\")\n",
    "    i += 1\n"
   ]
  },
  {
   "cell_type": "code",
   "execution_count": 21,
   "id": "5e7ca9a6",
   "metadata": {},
   "outputs": [
    {
     "name": "stdout",
     "output_type": "stream",
     "text": [
      "* * * * * \r\n",
      "* * * * \r\n",
      "* * * \r\n",
      "* * \r\n",
      "* \r\n"
     ]
    }
   ],
   "source": [
    "# second pattern\n",
    "i = 5\n",
    "while i >= 1:\n",
    "    j = 1\n",
    "    while j <= i:\n",
    "        print(\"*\", end=\" \")\n",
    "        j += 1\n",
    "    print(\"\\r\")\n",
    "    i -= 1\n"
   ]
  },
  {
   "cell_type": "code",
   "execution_count": 25,
   "id": "24505ce1",
   "metadata": {},
   "outputs": [
    {
     "name": "stdout",
     "output_type": "stream",
     "text": [
      "        * \r\n",
      "      * * \r\n",
      "    * * * \r\n",
      "  * * * * \r\n",
      "* * * * * \r\n"
     ]
    }
   ],
   "source": [
    "# Third pattern\n",
    "n = 5\n",
    "i = 1\n",
    "while i <= n:\n",
    "    j = 1\n",
    "    while j <= n - i:\n",
    "        print(\" \", end=\" \")\n",
    "        j += 1\n",
    "    k = 1\n",
    "    while k <= i:\n",
    "        print(\"*\", end=\" \")\n",
    "        k += 1\n",
    "    print(\"\\r\")\n",
    "    i += 1"
   ]
  },
  {
   "cell_type": "markdown",
   "id": "4dec3db5",
   "metadata": {},
   "source": [
    "### 7. reverse a while loop to display  number from 10 to 1?"
   ]
  },
  {
   "cell_type": "code",
   "execution_count": 26,
   "id": "9b5cebbf",
   "metadata": {},
   "outputs": [
    {
     "name": "stdout",
     "output_type": "stream",
     "text": [
      "10\n",
      "9\n",
      "8\n",
      "7\n",
      "6\n",
      "5\n",
      "4\n",
      "3\n",
      "2\n",
      "1\n"
     ]
    }
   ],
   "source": [
    "i = 10\n",
    "while i >= 1:\n",
    "    print(i)\n",
    "    i -= 1\n"
   ]
  },
  {
   "cell_type": "markdown",
   "id": "b9f94915",
   "metadata": {},
   "source": [
    "### 8. reverse a while loop to display number from 10 to 1?"
   ]
  },
  {
   "cell_type": "code",
   "execution_count": 27,
   "id": "f691741e",
   "metadata": {},
   "outputs": [
    {
     "name": "stdout",
     "output_type": "stream",
     "text": [
      "10\n",
      "9\n",
      "8\n",
      "7\n",
      "6\n",
      "5\n",
      "4\n",
      "3\n",
      "2\n",
      "1\n"
     ]
    }
   ],
   "source": [
    "i = 10\n",
    "while i >= 1:\n",
    "    print(i)\n",
    "    i -= 1\n"
   ]
  },
  {
   "cell_type": "code",
   "execution_count": null,
   "id": "9f2e5605",
   "metadata": {},
   "outputs": [],
   "source": []
  }
 ],
 "metadata": {
  "kernelspec": {
   "display_name": "Python 3 (ipykernel)",
   "language": "python",
   "name": "python3"
  },
  "language_info": {
   "codemirror_mode": {
    "name": "ipython",
    "version": 3
   },
   "file_extension": ".py",
   "mimetype": "text/x-python",
   "name": "python",
   "nbconvert_exporter": "python",
   "pygments_lexer": "ipython3",
   "version": "3.9.16"
  }
 },
 "nbformat": 4,
 "nbformat_minor": 5
}
