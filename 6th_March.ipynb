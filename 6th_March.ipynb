{
 "cells": [
  {
   "cell_type": "markdown",
   "id": "cc379a2d",
   "metadata": {},
   "source": [
    "### Q1. What is Statistics?"
   ]
  },
  {
   "cell_type": "markdown",
   "id": "225cb3b0",
   "metadata": {},
   "source": [
    "#### Statistics is the science of collecting , organizing and analysing the data in order to make decision making. Data are facts and pieces of information."
   ]
  },
  {
   "cell_type": "markdown",
   "id": "bb2b3db3",
   "metadata": {},
   "source": [
    "### Q2. Define the different types of statistics and give an example of when each type might be used."
   ]
  },
  {
   "cell_type": "markdown",
   "id": "c9a1f724",
   "metadata": {},
   "source": [
    "#### There are mainly two types of Statistics:\n",
    "- Descriptive Statistics: Descriptive statistics summarize and describe the characteristics of a data set.\n",
    "\n",
    "- Inferential Statistics: Inferential statistics are used to draw conclusions about a population based on a sample of data.\n",
    "\n",
    "#### Desriptive statistics use:\n",
    "- Measures of central tendency (mean, median, mode) are used to describe the typical value of a variable.\n",
    "\n",
    "- Measures of dispersion (range, variance, standard deviation) are used to describe how spread out the values of a variable are.\n",
    "\n",
    "- Frequency distributions and histograms are used to display the distribution of a variable.\n",
    "\n",
    "#### Inferential Statistics use:\n",
    "- Hypothesis testing is used to determine whether a difference between two groups is statistically significant or due to chance.\n",
    "\n",
    "- Confidence intervals are used to estimate the range of values within which a population parameter is likely to lie.\n",
    "\n",
    "- Regression analysis is used to examine the relationship between two or more variables and to make predictions about future outcomes based on this relationship."
   ]
  },
  {
   "cell_type": "markdown",
   "id": "1b045714",
   "metadata": {},
   "source": [
    "### Q3. What are the different types of data and how do they differ from each other? Provide an example of each type of data."
   ]
  },
  {
   "cell_type": "markdown",
   "id": "f24b8128",
   "metadata": {},
   "source": [
    "- Data are mainly divided into two main category i,e Qantitative(Numerical) and Qualitave(Categorical). \n",
    "\n",
    "- Quantitative data are subdivided into two types:\n",
    "\n",
    "- 1) Discrete Data -  numerical data that can only take on certain specific values within a defined range. They are typically integers and cannot be divided into smaller units. Example - The number of students in a classroom.\n",
    "\n",
    "- 2) Continous Data - numerical data that can take on any value within a defined range. They can be measured to any level of precision and can be infinitely divided into smaller units. Example - Height,weight..\n",
    "\n",
    "- Qualitative data are divided into two types:\n",
    "\n",
    "- 1) Nominal Data - categorical data that have no inherent order or ranking. They are used to classify data into distinct categories or groups. Example - colour of eye(black,blue)\n",
    "\n",
    "- 2) Ordinal Data - categorical data that have a natural order or ranking. Example -  Education level (high school, college, graduate school)"
   ]
  },
  {
   "cell_type": "markdown",
   "id": "8fbcbe9a",
   "metadata": {},
   "source": [
    "### Q4. Categorise the following datasets with respect to quantitative and qualitative data types:"
   ]
  },
  {
   "cell_type": "markdown",
   "id": "ed1d3f69",
   "metadata": {},
   "source": [
    "#### (i) Grading in exam: A+, A, B+, B, C+, C, D, E  \n",
    "- Qualitative data"
   ]
  },
  {
   "cell_type": "markdown",
   "id": "48b423f0",
   "metadata": {},
   "source": [
    "#### (ii) Colour of mangoes: yellow, green, orange, red\n",
    "- Qualitative data"
   ]
  },
  {
   "cell_type": "markdown",
   "id": "96df23ae",
   "metadata": {},
   "source": [
    "#### (iii) Height data of a class: [178.9, 179, 179.5, 176, 177.2, 178.3, 175.8,...]\n",
    "- Quantitative data"
   ]
  },
  {
   "cell_type": "markdown",
   "id": "b3e1a64b",
   "metadata": {},
   "source": [
    "#### (iv) Number of mangoes exported by a farm: [500, 600, 478, 672, ...]\n",
    "- Quantitative data"
   ]
  },
  {
   "cell_type": "markdown",
   "id": "a4985346",
   "metadata": {},
   "source": [
    "### Q5. Explain the concept of levels of measurement and give an example of a variable for each level."
   ]
  },
  {
   "cell_type": "markdown",
   "id": "4600bdd1",
   "metadata": {},
   "source": [
    "#### Levels of measurement refer to the different ways in which variables can be measured or classified. There are four main levels of measurement:\n",
    "\n",
    "- Nominal scale data - At the nominal level, variables are measured using categories that have no inherent order or ranking. Example- Gender,eye colour\n",
    "\n",
    "- Ordinal scale data - At the ordinal level, variables are measured using categories that have a natural order or ranking and difference cannot be measured. Example- education level (e.g., high school, college, graduate school)\n",
    "\n",
    "- Interval scale data - At the interval level, variables are measured using numerical values with equal intervals between them, but there is no true zero point and difference can be measured excluding ratio. Example - emperature in Celsius or Fahrenheit, where the difference between 20 and 30 degrees is the same as the difference between 80 and 90 degrees.\n",
    "\n",
    "- Ratio scale data - At the ratio level, variables are measured using numerical values with equal intervals between them, and there is a true zero point. Example -  height, weight, and income, where a value of zero means the absence of the characteristic being measured."
   ]
  },
  {
   "cell_type": "markdown",
   "id": "e713a06e",
   "metadata": {},
   "source": [
    "### Q6. Why is it important to understand the level of measurement when analyzing data? Provide an example to illustrate your answer."
   ]
  },
  {
   "cell_type": "markdown",
   "id": "06443434",
   "metadata": {},
   "source": [
    "#### Level of measurement will help us to determine the type of statistical test that can be used on the dataset and it also affects the interpretation of the results. \n",
    "\n",
    "#### Example\n",
    "\n",
    "- if we want to find the relationship between gender and academic performance among college students. Gender is a nominal variable, as it has no order or ranking, while academic performance is an ordinal variable, as grades have a natural order or ranking (e.g. A, B, C).To analyze this relationship,we can use chi-square test.Alternatively, if we want to compare the mean grades of male and female students, we can use a t-test, which assumes interval or ratio data. In this case, we need to convert the ordinal grade data into interval or ratio data, such as using a point system where A=4, B=3, C=2, and so on.By understanding the level of measurement and choosing the appropriate statistical test, we can accurately determine if there is a significant relationship between gender and academic performance among college students. "
   ]
  },
  {
   "cell_type": "markdown",
   "id": "32d0f75e",
   "metadata": {},
   "source": [
    "### Q7. How nominal data type is different from ordinal data type."
   ]
  },
  {
   "cell_type": "markdown",
   "id": "bf2da945",
   "metadata": {},
   "source": [
    "- Nominal data are categorical data where the categories do not have any inherent order or ranking. Example -  gender, eye colour..\n",
    "- Ordinal data, on the other hand, are categorical data where the categories have a natural order or ranking. Example - pain levels (mild, moderate, severe)\n",
    "- The main difference between nominal and ordinal data is that nominal data have no inherent order, while ordinal data have a natural order or ranking. "
   ]
  },
  {
   "cell_type": "markdown",
   "id": "bc496b51",
   "metadata": {},
   "source": [
    "### Q8. Which type of plot can be used to display data in terms of range?"
   ]
  },
  {
   "cell_type": "markdown",
   "id": "6cce8d3d",
   "metadata": {},
   "source": [
    "- A box plot, also known as a box-and-whisker plot, is a type of plot that can be used to display data in terms of range."
   ]
  },
  {
   "cell_type": "markdown",
   "id": "cc521a0e",
   "metadata": {},
   "source": [
    "### Q9. Describe the difference between descriptive and inferential statistics. Give an example of each type of statistics and explain how they are used."
   ]
  },
  {
   "cell_type": "markdown",
   "id": "73964a9d",
   "metadata": {},
   "source": [
    "- Descriptive statistics are useful for summarizing and describing data, while inferential statistics are used to make generalizations about a larger population based on a smaller sample of data.\n",
    "- example of Descriptive statistics - calculating the mean and standard deviation of a set of exam scores for a group of students. This would allow you to describe the average performance of the group, as well as the variation in their scores.\n",
    "- example of Inferential statistics - t-test to determine if there is a significant difference in exam scores between two groups of students (e.g. males vs. females)."
   ]
  },
  {
   "cell_type": "markdown",
   "id": "06bf1832",
   "metadata": {},
   "source": [
    "### Q10. What are some common measures of central tendency and variability used in statistics? Explain how each measure can be used to describe a dataset."
   ]
  },
  {
   "cell_type": "markdown",
   "id": "63b7110f",
   "metadata": {},
   "source": [
    "- Measures of Central Tendency:\n",
    "- Mean - Average of data. The mean is useful for summarizing a data set with a roughly symmetrical distribution, as it represents the center of the distribution.\n",
    "- Median - The middle value of data.It is useful when the data set contains outliers or is not symmetrical, as it is less sensitive to extreme values than the mean.\n",
    "- Mode - the value that occurs most frequently in a set of data. It is useful for summarizing a data set with discrete or categorical values, as it identifies the most common value.\n",
    "- Measures of Variability:\n",
    "- Range: The range is the difference between the largest and smallest values in a set of data. It is useful for summarizing the spread of the data, but is sensitive to outliers.\n",
    "- Standard Deviation: The standard deviation is a measure of the variability of a set of data.It is useful for summarizing the spread of the data, and is less sensitive to outliers than the range.\n",
    "- Interquartile Range (IQR): The IQR is the difference between the upper and lower quartiles in a set of data. The IQR is useful for summarizing the spread of the data, and is less sensitive to outliers than the range.\n",
    "- variance is another measure of variability in a dataset, and it is closely related to the standard deviation."
   ]
  },
  {
   "cell_type": "code",
   "execution_count": null,
   "id": "f70d351a",
   "metadata": {},
   "outputs": [],
   "source": []
  }
 ],
 "metadata": {
  "kernelspec": {
   "display_name": "Python 3 (ipykernel)",
   "language": "python",
   "name": "python3"
  },
  "language_info": {
   "codemirror_mode": {
    "name": "ipython",
    "version": 3
   },
   "file_extension": ".py",
   "mimetype": "text/x-python",
   "name": "python",
   "nbconvert_exporter": "python",
   "pygments_lexer": "ipython3",
   "version": "3.9.16"
  }
 },
 "nbformat": 4,
 "nbformat_minor": 5
}
