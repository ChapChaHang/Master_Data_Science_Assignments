{
 "cells": [
  {
   "cell_type": "markdown",
   "id": "4d61493e",
   "metadata": {},
   "source": [
    "# Exceptional Handling"
   ]
  },
  {
   "cell_type": "markdown",
   "id": "ea548f77",
   "metadata": {},
   "source": [
    "#### Exception handling in Python is a mechanism to handle unexpected errors or exceptions that may occur in a program. It provides a way for the program to recover from exceptions, instead of stopping execution of the entire program."
   ]
  },
  {
   "cell_type": "code",
   "execution_count": 1,
   "id": "37faa52e",
   "metadata": {},
   "outputs": [
    {
     "ename": "ZeroDivisionError",
     "evalue": "division by zero",
     "output_type": "error",
     "traceback": [
      "\u001b[0;31m---------------------------------------------------------------------------\u001b[0m",
      "\u001b[0;31mZeroDivisionError\u001b[0m                         Traceback (most recent call last)",
      "Cell \u001b[0;32mIn[1], line 3\u001b[0m\n\u001b[1;32m      1\u001b[0m \u001b[38;5;66;03m# Example of error\u001b[39;00m\n\u001b[1;32m      2\u001b[0m a \u001b[38;5;241m=\u001b[39m\u001b[38;5;241m6\u001b[39m\n\u001b[0;32m----> 3\u001b[0m \u001b[43ma\u001b[49m\u001b[38;5;241;43m/\u001b[39;49m\u001b[38;5;241;43m0\u001b[39;49m\n",
      "\u001b[0;31mZeroDivisionError\u001b[0m: division by zero"
     ]
    }
   ],
   "source": [
    "# Example of error\n",
    "a =6\n",
    "a/0"
   ]
  },
  {
   "cell_type": "code",
   "execution_count": 2,
   "id": "58bd116d",
   "metadata": {
    "scrolled": true
   },
   "outputs": [
    {
     "ename": "FileNotFoundError",
     "evalue": "[Errno 2] No such file or directory: 'one.txt'",
     "output_type": "error",
     "traceback": [
      "\u001b[0;31m---------------------------------------------------------------------------\u001b[0m",
      "\u001b[0;31mFileNotFoundError\u001b[0m                         Traceback (most recent call last)",
      "Cell \u001b[0;32mIn[2], line 1\u001b[0m\n\u001b[0;32m----> 1\u001b[0m \u001b[38;5;28;01mwith\u001b[39;00m \u001b[38;5;28;43mopen\u001b[39;49m\u001b[43m(\u001b[49m\u001b[38;5;124;43m'\u001b[39;49m\u001b[38;5;124;43mone.txt\u001b[39;49m\u001b[38;5;124;43m'\u001b[39;49m\u001b[43m,\u001b[49m\u001b[38;5;124;43m'\u001b[39;49m\u001b[38;5;124;43mr\u001b[39;49m\u001b[38;5;124;43m'\u001b[39;49m\u001b[43m)\u001b[49m \u001b[38;5;28;01mas\u001b[39;00m file:\n\u001b[1;32m      2\u001b[0m     file\u001b[38;5;241m.\u001b[39mread()\n",
      "File \u001b[0;32m~/anaconda3/envs/badip/lib/python3.9/site-packages/IPython/core/interactiveshell.py:282\u001b[0m, in \u001b[0;36m_modified_open\u001b[0;34m(file, *args, **kwargs)\u001b[0m\n\u001b[1;32m    275\u001b[0m \u001b[38;5;28;01mif\u001b[39;00m file \u001b[38;5;129;01min\u001b[39;00m {\u001b[38;5;241m0\u001b[39m, \u001b[38;5;241m1\u001b[39m, \u001b[38;5;241m2\u001b[39m}:\n\u001b[1;32m    276\u001b[0m     \u001b[38;5;28;01mraise\u001b[39;00m \u001b[38;5;167;01mValueError\u001b[39;00m(\n\u001b[1;32m    277\u001b[0m         \u001b[38;5;124mf\u001b[39m\u001b[38;5;124m\"\u001b[39m\u001b[38;5;124mIPython won\u001b[39m\u001b[38;5;124m'\u001b[39m\u001b[38;5;124mt let you open fd=\u001b[39m\u001b[38;5;132;01m{\u001b[39;00mfile\u001b[38;5;132;01m}\u001b[39;00m\u001b[38;5;124m by default \u001b[39m\u001b[38;5;124m\"\u001b[39m\n\u001b[1;32m    278\u001b[0m         \u001b[38;5;124m\"\u001b[39m\u001b[38;5;124mas it is likely to crash IPython. If you know what you are doing, \u001b[39m\u001b[38;5;124m\"\u001b[39m\n\u001b[1;32m    279\u001b[0m         \u001b[38;5;124m\"\u001b[39m\u001b[38;5;124myou can use builtins\u001b[39m\u001b[38;5;124m'\u001b[39m\u001b[38;5;124m open.\u001b[39m\u001b[38;5;124m\"\u001b[39m\n\u001b[1;32m    280\u001b[0m     )\n\u001b[0;32m--> 282\u001b[0m \u001b[38;5;28;01mreturn\u001b[39;00m \u001b[43mio_open\u001b[49m\u001b[43m(\u001b[49m\u001b[43mfile\u001b[49m\u001b[43m,\u001b[49m\u001b[43m \u001b[49m\u001b[38;5;241;43m*\u001b[39;49m\u001b[43margs\u001b[49m\u001b[43m,\u001b[49m\u001b[43m \u001b[49m\u001b[38;5;241;43m*\u001b[39;49m\u001b[38;5;241;43m*\u001b[39;49m\u001b[43mkwargs\u001b[49m\u001b[43m)\u001b[49m\n",
      "\u001b[0;31mFileNotFoundError\u001b[0m: [Errno 2] No such file or directory: 'one.txt'"
     ]
    }
   ],
   "source": [
    "with open('one.txt','r') as file:\n",
    "    file.read()\n",
    "    "
   ]
  },
  {
   "cell_type": "markdown",
   "id": "edb1d501",
   "metadata": {},
   "source": [
    "### How to handle error?"
   ]
  },
  {
   "cell_type": "markdown",
   "id": "4b593f97",
   "metadata": {},
   "source": [
    "#### we can handle this type of error using exceptional handling"
   ]
  },
  {
   "cell_type": "code",
   "execution_count": 7,
   "id": "725d69a0",
   "metadata": {},
   "outputs": [
    {
     "name": "stdout",
     "output_type": "stream",
     "text": [
      "Error ==> [Errno 2] No such file or directory: 'one.txt'\n",
      "The next line of code will be executed\n"
     ]
    },
    {
     "data": {
      "text/plain": [
       "20"
      ]
     },
     "execution_count": 7,
     "metadata": {},
     "output_type": "execute_result"
    }
   ],
   "source": [
    "try:\n",
    "    f = open('one.txt','r')\n",
    "except Exception as e:\n",
    "    print(\"Error ==>\",e)\n",
    "print(\"The next line of code will be executed\")\n",
    "a = 20\n",
    "a"
   ]
  },
  {
   "cell_type": "markdown",
   "id": "43aecda6",
   "metadata": {},
   "source": [
    "### else block"
   ]
  },
  {
   "cell_type": "code",
   "execution_count": 8,
   "id": "edfbccea",
   "metadata": {},
   "outputs": [
    {
     "name": "stdout",
     "output_type": "stream",
     "text": [
      "Else block will excute when try block will execute itself without any exception\n"
     ]
    }
   ],
   "source": [
    "try:\n",
    "    f = open('one.txt','w')\n",
    "    f.write(\"example of else block\")\n",
    "except Exception as e:\n",
    "    print(\"Error ==>\",e)\n",
    "else:\n",
    "    print(\"Else block will excute when try block will execute itself without any exception\")"
   ]
  },
  {
   "cell_type": "markdown",
   "id": "240e3e66",
   "metadata": {},
   "source": [
    "### finally block"
   ]
  },
  {
   "cell_type": "code",
   "execution_count": 9,
   "id": "68e84c19",
   "metadata": {},
   "outputs": [
    {
     "name": "stdout",
     "output_type": "stream",
     "text": [
      "it will always execute\n"
     ]
    },
    {
     "ename": "FileNotFoundError",
     "evalue": "[Errno 2] No such file or directory: 'one1.txt'",
     "output_type": "error",
     "traceback": [
      "\u001b[0;31m---------------------------------------------------------------------------\u001b[0m",
      "\u001b[0;31mFileNotFoundError\u001b[0m                         Traceback (most recent call last)",
      "Cell \u001b[0;32mIn[9], line 2\u001b[0m\n\u001b[1;32m      1\u001b[0m \u001b[38;5;28;01mtry\u001b[39;00m:\n\u001b[0;32m----> 2\u001b[0m     f \u001b[38;5;241m=\u001b[39m \u001b[38;5;28;43mopen\u001b[39;49m\u001b[43m(\u001b[49m\u001b[38;5;124;43m'\u001b[39;49m\u001b[38;5;124;43mone1.txt\u001b[39;49m\u001b[38;5;124;43m'\u001b[39;49m\u001b[43m,\u001b[49m\u001b[38;5;124;43m'\u001b[39;49m\u001b[38;5;124;43mr\u001b[39;49m\u001b[38;5;124;43m'\u001b[39;49m\u001b[43m)\u001b[49m\n\u001b[1;32m      3\u001b[0m     f\u001b[38;5;241m.\u001b[39mread()\n\u001b[1;32m      4\u001b[0m \u001b[38;5;28;01mfinally\u001b[39;00m:\n",
      "File \u001b[0;32m~/anaconda3/envs/badip/lib/python3.9/site-packages/IPython/core/interactiveshell.py:282\u001b[0m, in \u001b[0;36m_modified_open\u001b[0;34m(file, *args, **kwargs)\u001b[0m\n\u001b[1;32m    275\u001b[0m \u001b[38;5;28;01mif\u001b[39;00m file \u001b[38;5;129;01min\u001b[39;00m {\u001b[38;5;241m0\u001b[39m, \u001b[38;5;241m1\u001b[39m, \u001b[38;5;241m2\u001b[39m}:\n\u001b[1;32m    276\u001b[0m     \u001b[38;5;28;01mraise\u001b[39;00m \u001b[38;5;167;01mValueError\u001b[39;00m(\n\u001b[1;32m    277\u001b[0m         \u001b[38;5;124mf\u001b[39m\u001b[38;5;124m\"\u001b[39m\u001b[38;5;124mIPython won\u001b[39m\u001b[38;5;124m'\u001b[39m\u001b[38;5;124mt let you open fd=\u001b[39m\u001b[38;5;132;01m{\u001b[39;00mfile\u001b[38;5;132;01m}\u001b[39;00m\u001b[38;5;124m by default \u001b[39m\u001b[38;5;124m\"\u001b[39m\n\u001b[1;32m    278\u001b[0m         \u001b[38;5;124m\"\u001b[39m\u001b[38;5;124mas it is likely to crash IPython. If you know what you are doing, \u001b[39m\u001b[38;5;124m\"\u001b[39m\n\u001b[1;32m    279\u001b[0m         \u001b[38;5;124m\"\u001b[39m\u001b[38;5;124myou can use builtins\u001b[39m\u001b[38;5;124m'\u001b[39m\u001b[38;5;124m open.\u001b[39m\u001b[38;5;124m\"\u001b[39m\n\u001b[1;32m    280\u001b[0m     )\n\u001b[0;32m--> 282\u001b[0m \u001b[38;5;28;01mreturn\u001b[39;00m \u001b[43mio_open\u001b[49m\u001b[43m(\u001b[49m\u001b[43mfile\u001b[49m\u001b[43m,\u001b[49m\u001b[43m \u001b[49m\u001b[38;5;241;43m*\u001b[39;49m\u001b[43margs\u001b[49m\u001b[43m,\u001b[49m\u001b[43m \u001b[49m\u001b[38;5;241;43m*\u001b[39;49m\u001b[38;5;241;43m*\u001b[39;49m\u001b[43mkwargs\u001b[49m\u001b[43m)\u001b[49m\n",
      "\u001b[0;31mFileNotFoundError\u001b[0m: [Errno 2] No such file or directory: 'one1.txt'"
     ]
    }
   ],
   "source": [
    "try:\n",
    "    f = open('one1.txt','r')\n",
    "    f.read()\n",
    "finally:\n",
    "    print(\"it will always execute\")"
   ]
  },
  {
   "cell_type": "markdown",
   "id": "d7cdb7ed",
   "metadata": {},
   "source": [
    "## Custom Exception Handling"
   ]
  },
  {
   "cell_type": "code",
   "execution_count": 10,
   "id": "21ba56c6",
   "metadata": {},
   "outputs": [
    {
     "name": "stdout",
     "output_type": "stream",
     "text": [
      "Enter your age -1212\n"
     ]
    }
   ],
   "source": [
    "age = int(input(\"Enter your age \"))"
   ]
  },
  {
   "cell_type": "code",
   "execution_count": 11,
   "id": "4ba7c807",
   "metadata": {},
   "outputs": [],
   "source": [
    "class validateage(Exception):\n",
    "    def __init__(self,msg):\n",
    "        self.msg = msg"
   ]
  },
  {
   "cell_type": "code",
   "execution_count": 12,
   "id": "fa77e91c",
   "metadata": {},
   "outputs": [],
   "source": [
    "def validate_age(age):\n",
    "    if age < 0:\n",
    "        raise validateage(\"Age can't be negative\")\n",
    "    elif age > 200:\n",
    "        raise validateage(\"Age is too high\")\n",
    "    else:\n",
    "        print(\"valid age\")"
   ]
  },
  {
   "cell_type": "code",
   "execution_count": 15,
   "id": "08002fcf",
   "metadata": {},
   "outputs": [
    {
     "name": "stdout",
     "output_type": "stream",
     "text": [
      "enter your age 45\n",
      "valid age\n"
     ]
    }
   ],
   "source": [
    "try:\n",
    "    age = int(input(\"enter your age \"))\n",
    "    validate_age(age)\n",
    "except validateage as e:\n",
    "    print(e)"
   ]
  },
  {
   "cell_type": "markdown",
   "id": "043e6e93",
   "metadata": {},
   "source": [
    "## Practice Question"
   ]
  },
  {
   "cell_type": "markdown",
   "id": "ca0920e2",
   "metadata": {},
   "source": [
    "#### 1. Define a custom exception class InvalidAgeException, which is derived from the built-in Exception class. This custom exception class should accept an age in its constructor, and should have a custom __str__ method that returns a message indicating that the age is invalid. Raise this exception when the age is less than 0."
   ]
  },
  {
   "cell_type": "code",
   "execution_count": 29,
   "id": "4d009b66",
   "metadata": {},
   "outputs": [
    {
     "name": "stdout",
     "output_type": "stream",
     "text": [
      "Enter your age-78\n",
      "The age is invalid\n"
     ]
    }
   ],
   "source": [
    "class InvalidAgeException(Exception):\n",
    "    def __init__(self,message):\n",
    "        self.message = message\n",
    "    def __str__(self):\n",
    "        return self.message\n",
    "def InvalidAgeException_check(age):\n",
    "    if age < 0 :\n",
    "        raise InvalidAgeException(\"The age is invalid\")\n",
    "try:\n",
    "    age = int(input(\"Enter your age\"))\n",
    "    InvalidAgeException_check(age)\n",
    "except InvalidAgeException as e:\n",
    "    print(e)"
   ]
  },
  {
   "cell_type": "markdown",
   "id": "25e70a23",
   "metadata": {},
   "source": [
    "#### 2. Define a custom exception class OutOfStockException, which is derived from the built-in Exception class. This custom exception class should accept the name of an item in its constructor, and should have a custom __str__ method that returns a message indicating that the item is out of stock. Raise this exception when an attempt is made to purchase an item that is not in stock."
   ]
  },
  {
   "cell_type": "code",
   "execution_count": 35,
   "id": "befbebe9",
   "metadata": {},
   "outputs": [
    {
     "name": "stdout",
     "output_type": "stream",
     "text": [
      "Enter item name: car\n",
      "The item 'car' is out of stock.\n"
     ]
    }
   ],
   "source": [
    "class OutOfStockException(Exception):\n",
    "    def __init__(self, message):\n",
    "        self.message = message\n",
    "\n",
    "    def __str__(self):\n",
    "        return self.message\n",
    "\n",
    "def OutOfStockException_check(item):\n",
    "    items = ['apple', 'banana', 'cherry']\n",
    "    if item not in items:\n",
    "        raise OutOfStockException(\"The item '{}' is out of stock.\".format(item))\n",
    "\n",
    "try:\n",
    "    item = input(\"Enter item name: \")\n",
    "    OutOfStockException_check(item)\n",
    "    print(\"Item is available in stock.\")\n",
    "except OutOfStockException as e:\n",
    "    print(e)\n"
   ]
  },
  {
   "cell_type": "markdown",
   "id": "489c7676",
   "metadata": {},
   "source": [
    "#### 3. Define a custom exception class TooManyItemsException, which is derived from the built-in Exception class. This custom exception class should accept the maximum number of items allowed in its constructor, and should have a custom __str__ method that returns a message indicating that the maximum number of items has been exceeded. Raise this exception when an attempt is made to add more items to a list than the maximum number allowed."
   ]
  },
  {
   "cell_type": "code",
   "execution_count": 42,
   "id": "e8febf3a",
   "metadata": {},
   "outputs": [
    {
     "name": "stdout",
     "output_type": "stream",
     "text": [
      "Enter the number of items you want to add: 6\n",
      "Error: You cannot add more than 5 items.\n"
     ]
    }
   ],
   "source": [
    "class TooManyItemsException(Exception):\n",
    "    def __init__(self, message):\n",
    "        self.message = message\n",
    "\n",
    "    def __str__(self):\n",
    "        return self.message\n",
    "\n",
    "def TooManyItemsException_test(count):\n",
    "    maximum = 5\n",
    "    if count > maximum:\n",
    "        raise TooManyItemsException(\"Error: You cannot add more than {} items.\".format(maximum))\n",
    "\n",
    "try:\n",
    "    count = int(input(\"Enter the number of items you want to add: \"))\n",
    "    TooManyItemsException_test(count)\n",
    "    print(\"You can add the items.\")\n",
    "except TooManyItemsException as e:\n",
    "    print(e)\n"
   ]
  },
  {
   "cell_type": "markdown",
   "id": "8271b60c",
   "metadata": {},
   "source": [
    "#### 4. Write a program that reads a list of numbers from the user, and calculates the sum of the numbers. If any of the numbers are less than 0, raise a custom exception NegativeNumberException with an error message indicating that negative numbers are not allowed. Handle the custom exception in the main program, and print a message indicating that an error has occurred."
   ]
  },
  {
   "cell_type": "code",
   "execution_count": 50,
   "id": "99b7134a",
   "metadata": {
    "scrolled": true
   },
   "outputs": [
    {
     "name": "stdout",
     "output_type": "stream",
     "text": [
      "Enter a number (or 'done' to stop): -9\n",
      "Enter a number (or 'done' to stop): done\n",
      "Error: Negative numbers are not allowed.\n"
     ]
    }
   ],
   "source": [
    "class NegativeNumberException(Exception):\n",
    "    def __init__(self, message):\n",
    "        self.message = message\n",
    "\n",
    "    def __str__(self):\n",
    "        return self.message\n",
    "\n",
    "def read_numbers():\n",
    "    numbers = []\n",
    "    while True:\n",
    "        number = input(\"Enter a number (or 'done' to stop): \")\n",
    "        if number == 'done':\n",
    "            break\n",
    "        else:\n",
    "            numbers.append(int(number))\n",
    "    return numbers\n",
    "\n",
    "def calculate_sum(numbers):\n",
    "    total = 0\n",
    "    for number in numbers:\n",
    "        if number < 0:\n",
    "            raise NegativeNumberException(\"Error: Negative numbers are not allowed.\")\n",
    "        total += number\n",
    "    return total\n",
    "\n",
    "try:\n",
    "    numbers = read_numbers()\n",
    "    total = calculate_sum(numbers)\n",
    "    print(\"The sum of the numbers is:\", total)\n",
    "except NegativeNumberException as e:\n",
    "    print(e)\n"
   ]
  },
  {
   "cell_type": "markdown",
   "id": "33497599",
   "metadata": {},
   "source": [
    "#### 5. Write a program that reads a string from the user, and checks if it is a valid email address. If the string is not a valid email address, raise a custom exception InvalidEmailException with a message indicating that the email address is invalid. Handle the custom exception in the main program, and print a message indicating that an error has occurred."
   ]
  },
  {
   "cell_type": "code",
   "execution_count": null,
   "id": "a63a3b49",
   "metadata": {},
   "outputs": [],
   "source": []
  },
  {
   "cell_type": "markdown",
   "id": "21663439",
   "metadata": {},
   "source": [
    "## list of general use exception?"
   ]
  },
  {
   "cell_type": "markdown",
   "id": "432db5b7",
   "metadata": {},
   "source": [
    "#### AttributeError - Raised when an attribute reference or assignment fails.\n",
    "\n",
    "#### IndexError - Raised when an index is out of range.\n",
    "\n",
    "#### KeyError - Raised when a dictionary key is not found.\n",
    "\n",
    "#### TypeError - Raised when an operation or function is applied to an object of inappropriate type.\n",
    "\n",
    "#### ValueError - Raised when a function gets an argument of correct type but an inappropriate value.\n",
    "\n",
    "#### ZeroDivisionError - Raised when the second argument of a division or modulo operation is zero.\n",
    "\n",
    "#### IOError - Raised when an I/O operation fails, such as when a file is not found.\n",
    "\n",
    "#### FileNotFoundError - Raised when a file or directory is requested but doesn't exist.\n",
    "\n",
    "#### ImportError - Raised when an import statement fails to find the module definition or when a from ... import ... fails to find a name that is to be imported.\n",
    "\n",
    "#### NameError - Raised when a name is not found in the local or global namespace."
   ]
  },
  {
   "cell_type": "code",
   "execution_count": 6,
   "id": "7267e6df",
   "metadata": {},
   "outputs": [
    {
     "name": "stdout",
     "output_type": "stream",
     "text": [
      "division by zero\n"
     ]
    }
   ],
   "source": [
    "# ZeroDivisionError\n",
    "try:\n",
    "    10/0\n",
    "except ZeroDivisionError as e:\n",
    "    print(e)"
   ]
  },
  {
   "cell_type": "code",
   "execution_count": 8,
   "id": "97a98ab5",
   "metadata": {},
   "outputs": [
    {
     "name": "stdout",
     "output_type": "stream",
     "text": [
      "invalid literal for int() with base 10: 'chang'\n"
     ]
    }
   ],
   "source": [
    "# Value and Type error\n",
    "try:\n",
    "    int(\"chang\")\n",
    "except (ValueError,TypeError) as e:\n",
    "    print(e)"
   ]
  },
  {
   "cell_type": "code",
   "execution_count": 9,
   "id": "77b8a476",
   "metadata": {},
   "outputs": [
    {
     "name": "stdout",
     "output_type": "stream",
     "text": [
      "it will create an error\n"
     ]
    }
   ],
   "source": [
    "# if i'm not aware of the error\n",
    "try:\n",
    "    int(\"chang\")\n",
    "except:\n",
    "    print(\"it will create an error\")"
   ]
  },
  {
   "cell_type": "code",
   "execution_count": 10,
   "id": "12161d2b",
   "metadata": {},
   "outputs": [
    {
     "name": "stdout",
     "output_type": "stream",
     "text": [
      "No module named 'chang'\n"
     ]
    }
   ],
   "source": [
    "# Import Error\n",
    "try:\n",
    "    import chang\n",
    "except ImportError as e:\n",
    "    print(e)"
   ]
  },
  {
   "cell_type": "code",
   "execution_count": 11,
   "id": "03c51392",
   "metadata": {},
   "outputs": [
    {
     "name": "stdout",
     "output_type": "stream",
     "text": [
      "'two'\n"
     ]
    }
   ],
   "source": [
    "# KeyError\n",
    "try:\n",
    "    a = {'1':[1,2,2,3],'one':'chang'}\n",
    "    a['two']\n",
    "except KeyError as e:\n",
    "    print(e)"
   ]
  },
  {
   "cell_type": "code",
   "execution_count": 12,
   "id": "a3c75af9",
   "metadata": {},
   "outputs": [
    {
     "name": "stdout",
     "output_type": "stream",
     "text": [
      "'str' object has no attribute 'test'\n"
     ]
    }
   ],
   "source": [
    "# AttributError\n",
    "try:\n",
    "    \"chang\".test()\n",
    "except AttributeError as e:\n",
    "    print(e)"
   ]
  },
  {
   "cell_type": "code",
   "execution_count": 13,
   "id": "dfb8604c",
   "metadata": {},
   "outputs": [
    {
     "name": "stdout",
     "output_type": "stream",
     "text": [
      "list index out of range\n"
     ]
    }
   ],
   "source": [
    "# IndexError\n",
    "try:\n",
    "    a =[1,2]\n",
    "    a[5]\n",
    "except IndexError as e:\n",
    "    print(e)"
   ]
  },
  {
   "cell_type": "code",
   "execution_count": 14,
   "id": "b4e6fa5d",
   "metadata": {},
   "outputs": [
    {
     "name": "stdout",
     "output_type": "stream",
     "text": [
      "unsupported operand type(s) for +: 'int' and 'str'\n"
     ]
    }
   ],
   "source": [
    "# TypeError\n",
    "try:\n",
    "    123 + \"and\"\n",
    "except TypeError as e:\n",
    "    print(e)"
   ]
  },
  {
   "cell_type": "code",
   "execution_count": 16,
   "id": "42545b23",
   "metadata": {},
   "outputs": [
    {
     "name": "stdout",
     "output_type": "stream",
     "text": [
      "[Errno 2] No such file or directory: 'oneone.txt'\n"
     ]
    }
   ],
   "source": [
    "# FileNotFound\n",
    "try:\n",
    "    with open('oneone.txt','r') as f:\n",
    "        f.read()\n",
    "except FileNotFoundError as e:\n",
    "    print(e)\n",
    "        "
   ]
  },
  {
   "cell_type": "markdown",
   "id": "5e856137",
   "metadata": {},
   "source": [
    "## Best Practoce for Exceptional Handling"
   ]
  },
  {
   "cell_type": "markdown",
   "id": "1fdde7a9",
   "metadata": {},
   "source": [
    "#### 1. Always use specific Exception"
   ]
  },
  {
   "cell_type": "code",
   "execution_count": 17,
   "id": "44711fe8",
   "metadata": {},
   "outputs": [
    {
     "name": "stdout",
     "output_type": "stream",
     "text": [
      "division by zero\n"
     ]
    }
   ],
   "source": [
    "# This is a Gneneric excpetion as we are using a super class i.e Exception\n",
    "try:\n",
    "    10/0\n",
    "except Exception as e:\n",
    "    print(e)"
   ]
  },
  {
   "cell_type": "code",
   "execution_count": 18,
   "id": "689fef72",
   "metadata": {},
   "outputs": [
    {
     "name": "stdout",
     "output_type": "stream",
     "text": [
      "division by zero\n"
     ]
    }
   ],
   "source": [
    "# use specific exception\n",
    "try:\n",
    "    10/0\n",
    "except ZeroDivisionError as e:\n",
    "    print(e)"
   ]
  },
  {
   "cell_type": "markdown",
   "id": "9a8c3deb",
   "metadata": {},
   "source": [
    "#### if you are not sure use Generic Exception"
   ]
  },
  {
   "cell_type": "markdown",
   "id": "6fcfaa89",
   "metadata": {},
   "source": [
    "#### 2. Always use valid message"
   ]
  },
  {
   "cell_type": "code",
   "execution_count": 19,
   "id": "7ff50581",
   "metadata": {},
   "outputs": [
    {
     "name": "stdout",
     "output_type": "stream",
     "text": [
      "This is a ZeroDivionError division by zero\n"
     ]
    }
   ],
   "source": [
    "# Example\n",
    "try:\n",
    "    10/0\n",
    "except ZeroDivisionError as e:\n",
    "    print(\"This is a ZeroDivionError\",e)"
   ]
  },
  {
   "cell_type": "markdown",
   "id": "fdfdf1ac",
   "metadata": {},
   "source": [
    "#### 3. Always use logging"
   ]
  },
  {
   "cell_type": "code",
   "execution_count": 21,
   "id": "47b7e5b1",
   "metadata": {},
   "outputs": [],
   "source": [
    "import logging\n",
    "logging.basicConfig(filename=\"exception_handling_error.log\",level=logging.ERROR)\n",
    "try:\n",
    "    10/0\n",
    "except ZeroDivisionError as e:\n",
    "    logging.error(\"Error type {}\".format(e))"
   ]
  },
  {
   "cell_type": "markdown",
   "id": "43fdc292",
   "metadata": {},
   "source": [
    "#### 4. Avoid multiple exceptional handling"
   ]
  },
  {
   "cell_type": "code",
   "execution_count": 22,
   "id": "5466e031",
   "metadata": {},
   "outputs": [],
   "source": [
    "# write excpetion that you think is close to error\n",
    "try:\n",
    "    10/0\n",
    "except AttributeError as e:\n",
    "    logging.error(\"Error type {}\".format(e))\n",
    "except FileNotFoundError as e:\n",
    "    logging.error(\"Error type {}\".format(e))\n",
    "except ZeroDivisionError as e:\n",
    "    logging.error(\"Error type {}\".format(e))"
   ]
  },
  {
   "cell_type": "markdown",
   "id": "d63c5a95",
   "metadata": {},
   "source": [
    "#### 5. Prepare proper Documentation"
   ]
  },
  {
   "cell_type": "markdown",
   "id": "1ab2b62c",
   "metadata": {},
   "source": [
    "#### 6. cleanup all the resource"
   ]
  },
  {
   "cell_type": "code",
   "execution_count": 23,
   "id": "6c2b8e4f",
   "metadata": {},
   "outputs": [],
   "source": [
    "try:\n",
    "    with open('test_clean_up.txt','w') as f:\n",
    "        f.write(\"test Clean up\")\n",
    "except FileNotFoundError as e:\n",
    "    logging.error(\"Error type {}\".format)\n",
    "finally:\n",
    "    f.close()"
   ]
  },
  {
   "cell_type": "code",
   "execution_count": null,
   "id": "29a3975b",
   "metadata": {},
   "outputs": [],
   "source": []
  },
  {
   "cell_type": "code",
   "execution_count": null,
   "id": "aacb3cd0",
   "metadata": {},
   "outputs": [],
   "source": []
  },
  {
   "cell_type": "code",
   "execution_count": null,
   "id": "e7a7f882",
   "metadata": {},
   "outputs": [],
   "source": []
  },
  {
   "cell_type": "code",
   "execution_count": null,
   "id": "74f127b9",
   "metadata": {},
   "outputs": [],
   "source": []
  },
  {
   "cell_type": "code",
   "execution_count": null,
   "id": "8e1f322c",
   "metadata": {},
   "outputs": [],
   "source": []
  },
  {
   "cell_type": "code",
   "execution_count": null,
   "id": "a9ff924f",
   "metadata": {},
   "outputs": [],
   "source": []
  }
 ],
 "metadata": {
  "kernelspec": {
   "display_name": "Python 3 (ipykernel)",
   "language": "python",
   "name": "python3"
  },
  "language_info": {
   "codemirror_mode": {
    "name": "ipython",
    "version": 3
   },
   "file_extension": ".py",
   "mimetype": "text/x-python",
   "name": "python",
   "nbconvert_exporter": "python",
   "pygments_lexer": "ipython3",
   "version": "3.9.16"
  }
 },
 "nbformat": 4,
 "nbformat_minor": 5
}
